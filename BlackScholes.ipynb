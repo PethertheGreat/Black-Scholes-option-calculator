{
 "cells": [
  {
   "cell_type": "code",
   "execution_count": 7,
   "metadata": {},
   "outputs": [
    {
     "name": "stdout",
     "output_type": "stream",
     "text": [
      "Option Price is  10.25\n"
     ]
    }
   ],
   "source": [
    "import numpy as np\n",
    "from scipy.stats import norm\n",
    "\n",
    "\n",
    "S = 30\n",
    "K = 40\n",
    "r = 0.01\n",
    "T = 240/365\n",
    "sigma = 0.3\n",
    "\n",
    "def blackscholes(S,K,r,T,sigma,type=\"C\"):\n",
    "    \"Calculate BS option price for a call/put\"\n",
    "    d1 = (np.log(S/K)+(r+sigma**2/2)*T)/(sigma*np.sqrt(T))\n",
    "    d2 = d1 - sigma*np.sqrt(T)\n",
    "\n",
    "    try: \n",
    "        if type == \"C\":\n",
    "            price = S*norm.cdf(d1,0,1) - K*np.exp(-r*T)*norm.cdf(d2,0,1)\n",
    "        elif type ==\"P\":\n",
    "            price = K*np.exp(-r*T)*norm.cdf(-d2,0,1) - S*norm.cdf(-d1,0,1)\n",
    "        return price\n",
    "    except:\n",
    "        print(\"Please ensure that all option parameters are being specified !\")\n",
    "    \n",
    "print(\"Option Price is \", round(blackscholes(S,K,r,T,sigma,type=\"P\"), 2))\n",
    "\n"
   ]
  }
 ],
 "metadata": {
  "kernelspec": {
   "display_name": "Python 3",
   "language": "python",
   "name": "python3"
  },
  "language_info": {
   "codemirror_mode": {
    "name": "ipython",
    "version": 3
   },
   "file_extension": ".py",
   "mimetype": "text/x-python",
   "name": "python",
   "nbconvert_exporter": "python",
   "pygments_lexer": "ipython3",
   "version": "3.12.0"
  }
 },
 "nbformat": 4,
 "nbformat_minor": 2
}
